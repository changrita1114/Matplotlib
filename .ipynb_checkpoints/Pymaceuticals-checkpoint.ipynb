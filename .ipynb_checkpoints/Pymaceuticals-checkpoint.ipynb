{
 "cells": [
  {
   "cell_type": "markdown",
   "metadata": {},
   "source": [
    "## Observations and Insights "
   ]
  },
  {
   "cell_type": "code",
   "execution_count": 1,
   "metadata": {},
   "outputs": [
    {
     "data": {
      "text/html": [
       "<div>\n",
       "<style scoped>\n",
       "    .dataframe tbody tr th:only-of-type {\n",
       "        vertical-align: middle;\n",
       "    }\n",
       "\n",
       "    .dataframe tbody tr th {\n",
       "        vertical-align: top;\n",
       "    }\n",
       "\n",
       "    .dataframe thead th {\n",
       "        text-align: right;\n",
       "    }\n",
       "</style>\n",
       "<table border=\"1\" class=\"dataframe\">\n",
       "  <thead>\n",
       "    <tr style=\"text-align: right;\">\n",
       "      <th></th>\n",
       "      <th>Mouse ID</th>\n",
       "      <th>Drug Regimen</th>\n",
       "      <th>Sex</th>\n",
       "      <th>Age_months</th>\n",
       "      <th>Weight (g)</th>\n",
       "      <th>Timepoint</th>\n",
       "      <th>Tumor Volume (mm3)</th>\n",
       "      <th>Metastatic Sites</th>\n",
       "    </tr>\n",
       "  </thead>\n",
       "  <tbody>\n",
       "    <tr>\n",
       "      <th>0</th>\n",
       "      <td>k403</td>\n",
       "      <td>Ramicane</td>\n",
       "      <td>Male</td>\n",
       "      <td>21</td>\n",
       "      <td>16</td>\n",
       "      <td>0</td>\n",
       "      <td>45.000000</td>\n",
       "      <td>0</td>\n",
       "    </tr>\n",
       "    <tr>\n",
       "      <th>1</th>\n",
       "      <td>k403</td>\n",
       "      <td>Ramicane</td>\n",
       "      <td>Male</td>\n",
       "      <td>21</td>\n",
       "      <td>16</td>\n",
       "      <td>5</td>\n",
       "      <td>38.825898</td>\n",
       "      <td>0</td>\n",
       "    </tr>\n",
       "    <tr>\n",
       "      <th>2</th>\n",
       "      <td>k403</td>\n",
       "      <td>Ramicane</td>\n",
       "      <td>Male</td>\n",
       "      <td>21</td>\n",
       "      <td>16</td>\n",
       "      <td>10</td>\n",
       "      <td>35.014271</td>\n",
       "      <td>1</td>\n",
       "    </tr>\n",
       "    <tr>\n",
       "      <th>3</th>\n",
       "      <td>k403</td>\n",
       "      <td>Ramicane</td>\n",
       "      <td>Male</td>\n",
       "      <td>21</td>\n",
       "      <td>16</td>\n",
       "      <td>15</td>\n",
       "      <td>34.223992</td>\n",
       "      <td>1</td>\n",
       "    </tr>\n",
       "    <tr>\n",
       "      <th>4</th>\n",
       "      <td>k403</td>\n",
       "      <td>Ramicane</td>\n",
       "      <td>Male</td>\n",
       "      <td>21</td>\n",
       "      <td>16</td>\n",
       "      <td>20</td>\n",
       "      <td>32.997729</td>\n",
       "      <td>1</td>\n",
       "    </tr>\n",
       "  </tbody>\n",
       "</table>\n",
       "</div>"
      ],
      "text/plain": [
       "  Mouse ID Drug Regimen   Sex  Age_months  Weight (g)  Timepoint  \\\n",
       "0     k403     Ramicane  Male          21          16          0   \n",
       "1     k403     Ramicane  Male          21          16          5   \n",
       "2     k403     Ramicane  Male          21          16         10   \n",
       "3     k403     Ramicane  Male          21          16         15   \n",
       "4     k403     Ramicane  Male          21          16         20   \n",
       "\n",
       "   Tumor Volume (mm3)  Metastatic Sites  \n",
       "0           45.000000                 0  \n",
       "1           38.825898                 0  \n",
       "2           35.014271                 1  \n",
       "3           34.223992                 1  \n",
       "4           32.997729                 1  "
      ]
     },
     "execution_count": 1,
     "metadata": {},
     "output_type": "execute_result"
    }
   ],
   "source": [
    "# Dependencies and Setup\n",
    "import matplotlib.pyplot as plt\n",
    "import pandas as pd\n",
    "import scipy.stats as sem\n",
    "import numpy as np\n",
    "from scipy.stats import linregress\n",
    "\n",
    "# Study data files\n",
    "mouse_metadata_path = \"data/Mouse_metadata.csv\"\n",
    "study_results_path = \"data/Study_results.csv\"\n",
    "\n",
    "# Read the mouse data and the study results\n",
    "mouse_metadata = pd.read_csv(mouse_metadata_path)\n",
    "study_results = pd.read_csv(study_results_path)\n",
    "\n",
    "# Combine the data into a single dataset\n",
    "combined_df = pd.merge(mouse_metadata, study_results, how='outer', on='Mouse ID')\n",
    "\n",
    "# Display the data table for preview\n",
    "combined_df.head()"
   ]
  },
  {
   "cell_type": "code",
   "execution_count": 2,
   "metadata": {},
   "outputs": [
    {
     "data": {
      "text/plain": [
       "249"
      ]
     },
     "execution_count": 2,
     "metadata": {},
     "output_type": "execute_result"
    }
   ],
   "source": [
    "# Checking the number of mice.\n",
    "number_mice = combined_df[\"Mouse ID\"].nunique()\n",
    "number_mice"
   ]
  },
  {
   "cell_type": "code",
   "execution_count": 3,
   "metadata": {},
   "outputs": [
    {
     "data": {
      "text/plain": [
       "0       False\n",
       "1       False\n",
       "2       False\n",
       "3       False\n",
       "4       False\n",
       "        ...  \n",
       "1888    False\n",
       "1889    False\n",
       "1890    False\n",
       "1891    False\n",
       "1892    False\n",
       "Length: 1893, dtype: bool"
      ]
     },
     "execution_count": 3,
     "metadata": {},
     "output_type": "execute_result"
    }
   ],
   "source": [
    "# Getting the duplicate mice by ID number that shows up for Mouse ID and Timepoint. \n",
    "duplicate = combined_df.duplicated([\"Mouse ID\",\"Timepoint\"], keep= False)\n",
    "duplicate"
   ]
  },
  {
   "cell_type": "code",
   "execution_count": 4,
   "metadata": {},
   "outputs": [
    {
     "data": {
      "text/html": [
       "<div>\n",
       "<style scoped>\n",
       "    .dataframe tbody tr th:only-of-type {\n",
       "        vertical-align: middle;\n",
       "    }\n",
       "\n",
       "    .dataframe tbody tr th {\n",
       "        vertical-align: top;\n",
       "    }\n",
       "\n",
       "    .dataframe thead th {\n",
       "        text-align: right;\n",
       "    }\n",
       "</style>\n",
       "<table border=\"1\" class=\"dataframe\">\n",
       "  <thead>\n",
       "    <tr style=\"text-align: right;\">\n",
       "      <th></th>\n",
       "      <th>Mouse ID</th>\n",
       "      <th>Drug Regimen</th>\n",
       "      <th>Sex</th>\n",
       "      <th>Age_months</th>\n",
       "      <th>Weight (g)</th>\n",
       "      <th>Timepoint</th>\n",
       "      <th>Tumor Volume (mm3)</th>\n",
       "      <th>Metastatic Sites</th>\n",
       "    </tr>\n",
       "  </thead>\n",
       "  <tbody>\n",
       "    <tr>\n",
       "      <th>908</th>\n",
       "      <td>g989</td>\n",
       "      <td>Propriva</td>\n",
       "      <td>Female</td>\n",
       "      <td>21</td>\n",
       "      <td>26</td>\n",
       "      <td>0</td>\n",
       "      <td>45.000000</td>\n",
       "      <td>0</td>\n",
       "    </tr>\n",
       "    <tr>\n",
       "      <th>909</th>\n",
       "      <td>g989</td>\n",
       "      <td>Propriva</td>\n",
       "      <td>Female</td>\n",
       "      <td>21</td>\n",
       "      <td>26</td>\n",
       "      <td>0</td>\n",
       "      <td>45.000000</td>\n",
       "      <td>0</td>\n",
       "    </tr>\n",
       "    <tr>\n",
       "      <th>910</th>\n",
       "      <td>g989</td>\n",
       "      <td>Propriva</td>\n",
       "      <td>Female</td>\n",
       "      <td>21</td>\n",
       "      <td>26</td>\n",
       "      <td>5</td>\n",
       "      <td>48.786801</td>\n",
       "      <td>0</td>\n",
       "    </tr>\n",
       "    <tr>\n",
       "      <th>911</th>\n",
       "      <td>g989</td>\n",
       "      <td>Propriva</td>\n",
       "      <td>Female</td>\n",
       "      <td>21</td>\n",
       "      <td>26</td>\n",
       "      <td>5</td>\n",
       "      <td>47.570392</td>\n",
       "      <td>0</td>\n",
       "    </tr>\n",
       "    <tr>\n",
       "      <th>912</th>\n",
       "      <td>g989</td>\n",
       "      <td>Propriva</td>\n",
       "      <td>Female</td>\n",
       "      <td>21</td>\n",
       "      <td>26</td>\n",
       "      <td>10</td>\n",
       "      <td>51.745156</td>\n",
       "      <td>0</td>\n",
       "    </tr>\n",
       "    <tr>\n",
       "      <th>913</th>\n",
       "      <td>g989</td>\n",
       "      <td>Propriva</td>\n",
       "      <td>Female</td>\n",
       "      <td>21</td>\n",
       "      <td>26</td>\n",
       "      <td>10</td>\n",
       "      <td>49.880528</td>\n",
       "      <td>0</td>\n",
       "    </tr>\n",
       "    <tr>\n",
       "      <th>914</th>\n",
       "      <td>g989</td>\n",
       "      <td>Propriva</td>\n",
       "      <td>Female</td>\n",
       "      <td>21</td>\n",
       "      <td>26</td>\n",
       "      <td>15</td>\n",
       "      <td>51.325852</td>\n",
       "      <td>1</td>\n",
       "    </tr>\n",
       "    <tr>\n",
       "      <th>915</th>\n",
       "      <td>g989</td>\n",
       "      <td>Propriva</td>\n",
       "      <td>Female</td>\n",
       "      <td>21</td>\n",
       "      <td>26</td>\n",
       "      <td>15</td>\n",
       "      <td>53.442020</td>\n",
       "      <td>0</td>\n",
       "    </tr>\n",
       "    <tr>\n",
       "      <th>916</th>\n",
       "      <td>g989</td>\n",
       "      <td>Propriva</td>\n",
       "      <td>Female</td>\n",
       "      <td>21</td>\n",
       "      <td>26</td>\n",
       "      <td>20</td>\n",
       "      <td>55.326122</td>\n",
       "      <td>1</td>\n",
       "    </tr>\n",
       "    <tr>\n",
       "      <th>917</th>\n",
       "      <td>g989</td>\n",
       "      <td>Propriva</td>\n",
       "      <td>Female</td>\n",
       "      <td>21</td>\n",
       "      <td>26</td>\n",
       "      <td>20</td>\n",
       "      <td>54.657650</td>\n",
       "      <td>1</td>\n",
       "    </tr>\n",
       "  </tbody>\n",
       "</table>\n",
       "</div>"
      ],
      "text/plain": [
       "    Mouse ID Drug Regimen     Sex  Age_months  Weight (g)  Timepoint  \\\n",
       "908     g989     Propriva  Female          21          26          0   \n",
       "909     g989     Propriva  Female          21          26          0   \n",
       "910     g989     Propriva  Female          21          26          5   \n",
       "911     g989     Propriva  Female          21          26          5   \n",
       "912     g989     Propriva  Female          21          26         10   \n",
       "913     g989     Propriva  Female          21          26         10   \n",
       "914     g989     Propriva  Female          21          26         15   \n",
       "915     g989     Propriva  Female          21          26         15   \n",
       "916     g989     Propriva  Female          21          26         20   \n",
       "917     g989     Propriva  Female          21          26         20   \n",
       "\n",
       "     Tumor Volume (mm3)  Metastatic Sites  \n",
       "908           45.000000                 0  \n",
       "909           45.000000                 0  \n",
       "910           48.786801                 0  \n",
       "911           47.570392                 0  \n",
       "912           51.745156                 0  \n",
       "913           49.880528                 0  \n",
       "914           51.325852                 1  \n",
       "915           53.442020                 0  \n",
       "916           55.326122                 1  \n",
       "917           54.657650                 1  "
      ]
     },
     "execution_count": 4,
     "metadata": {},
     "output_type": "execute_result"
    }
   ],
   "source": [
    "# Optional: Get all the data for the duplicate mouse ID. \n",
    "combined_df[duplicate]"
   ]
  },
  {
   "cell_type": "code",
   "execution_count": 5,
   "metadata": {},
   "outputs": [
    {
     "data": {
      "text/html": [
       "<div>\n",
       "<style scoped>\n",
       "    .dataframe tbody tr th:only-of-type {\n",
       "        vertical-align: middle;\n",
       "    }\n",
       "\n",
       "    .dataframe tbody tr th {\n",
       "        vertical-align: top;\n",
       "    }\n",
       "\n",
       "    .dataframe thead th {\n",
       "        text-align: right;\n",
       "    }\n",
       "</style>\n",
       "<table border=\"1\" class=\"dataframe\">\n",
       "  <thead>\n",
       "    <tr style=\"text-align: right;\">\n",
       "      <th></th>\n",
       "      <th>Mouse ID</th>\n",
       "      <th>Drug Regimen</th>\n",
       "      <th>Sex</th>\n",
       "      <th>Age_months</th>\n",
       "      <th>Weight (g)</th>\n",
       "      <th>Timepoint</th>\n",
       "      <th>Tumor Volume (mm3)</th>\n",
       "      <th>Metastatic Sites</th>\n",
       "    </tr>\n",
       "  </thead>\n",
       "  <tbody>\n",
       "    <tr>\n",
       "      <th>460</th>\n",
       "      <td>a203</td>\n",
       "      <td>Infubinol</td>\n",
       "      <td>Female</td>\n",
       "      <td>20</td>\n",
       "      <td>23</td>\n",
       "      <td>30</td>\n",
       "      <td>59.523197</td>\n",
       "      <td>1</td>\n",
       "    </tr>\n",
       "    <tr>\n",
       "      <th>461</th>\n",
       "      <td>a203</td>\n",
       "      <td>Infubinol</td>\n",
       "      <td>Female</td>\n",
       "      <td>20</td>\n",
       "      <td>23</td>\n",
       "      <td>35</td>\n",
       "      <td>61.931650</td>\n",
       "      <td>2</td>\n",
       "    </tr>\n",
       "    <tr>\n",
       "      <th>459</th>\n",
       "      <td>a203</td>\n",
       "      <td>Infubinol</td>\n",
       "      <td>Female</td>\n",
       "      <td>20</td>\n",
       "      <td>23</td>\n",
       "      <td>25</td>\n",
       "      <td>56.793208</td>\n",
       "      <td>1</td>\n",
       "    </tr>\n",
       "    <tr>\n",
       "      <th>458</th>\n",
       "      <td>a203</td>\n",
       "      <td>Infubinol</td>\n",
       "      <td>Female</td>\n",
       "      <td>20</td>\n",
       "      <td>23</td>\n",
       "      <td>20</td>\n",
       "      <td>55.173336</td>\n",
       "      <td>1</td>\n",
       "    </tr>\n",
       "    <tr>\n",
       "      <th>457</th>\n",
       "      <td>a203</td>\n",
       "      <td>Infubinol</td>\n",
       "      <td>Female</td>\n",
       "      <td>20</td>\n",
       "      <td>23</td>\n",
       "      <td>15</td>\n",
       "      <td>52.777870</td>\n",
       "      <td>1</td>\n",
       "    </tr>\n",
       "    <tr>\n",
       "      <th>...</th>\n",
       "      <td>...</td>\n",
       "      <td>...</td>\n",
       "      <td>...</td>\n",
       "      <td>...</td>\n",
       "      <td>...</td>\n",
       "      <td>...</td>\n",
       "      <td>...</td>\n",
       "      <td>...</td>\n",
       "    </tr>\n",
       "    <tr>\n",
       "      <th>1887</th>\n",
       "      <td>z969</td>\n",
       "      <td>Naftisol</td>\n",
       "      <td>Male</td>\n",
       "      <td>9</td>\n",
       "      <td>30</td>\n",
       "      <td>20</td>\n",
       "      <td>57.898778</td>\n",
       "      <td>2</td>\n",
       "    </tr>\n",
       "    <tr>\n",
       "      <th>1888</th>\n",
       "      <td>z969</td>\n",
       "      <td>Naftisol</td>\n",
       "      <td>Male</td>\n",
       "      <td>9</td>\n",
       "      <td>30</td>\n",
       "      <td>25</td>\n",
       "      <td>63.145652</td>\n",
       "      <td>2</td>\n",
       "    </tr>\n",
       "    <tr>\n",
       "      <th>1889</th>\n",
       "      <td>z969</td>\n",
       "      <td>Naftisol</td>\n",
       "      <td>Male</td>\n",
       "      <td>9</td>\n",
       "      <td>30</td>\n",
       "      <td>30</td>\n",
       "      <td>65.841013</td>\n",
       "      <td>3</td>\n",
       "    </tr>\n",
       "    <tr>\n",
       "      <th>1890</th>\n",
       "      <td>z969</td>\n",
       "      <td>Naftisol</td>\n",
       "      <td>Male</td>\n",
       "      <td>9</td>\n",
       "      <td>30</td>\n",
       "      <td>35</td>\n",
       "      <td>69.176246</td>\n",
       "      <td>4</td>\n",
       "    </tr>\n",
       "    <tr>\n",
       "      <th>1892</th>\n",
       "      <td>z969</td>\n",
       "      <td>Naftisol</td>\n",
       "      <td>Male</td>\n",
       "      <td>9</td>\n",
       "      <td>30</td>\n",
       "      <td>45</td>\n",
       "      <td>73.867845</td>\n",
       "      <td>4</td>\n",
       "    </tr>\n",
       "  </tbody>\n",
       "</table>\n",
       "<p>1883 rows × 8 columns</p>\n",
       "</div>"
      ],
      "text/plain": [
       "     Mouse ID Drug Regimen     Sex  Age_months  Weight (g)  Timepoint  \\\n",
       "460      a203    Infubinol  Female          20          23         30   \n",
       "461      a203    Infubinol  Female          20          23         35   \n",
       "459      a203    Infubinol  Female          20          23         25   \n",
       "458      a203    Infubinol  Female          20          23         20   \n",
       "457      a203    Infubinol  Female          20          23         15   \n",
       "...       ...          ...     ...         ...         ...        ...   \n",
       "1887     z969     Naftisol    Male           9          30         20   \n",
       "1888     z969     Naftisol    Male           9          30         25   \n",
       "1889     z969     Naftisol    Male           9          30         30   \n",
       "1890     z969     Naftisol    Male           9          30         35   \n",
       "1892     z969     Naftisol    Male           9          30         45   \n",
       "\n",
       "      Tumor Volume (mm3)  Metastatic Sites  \n",
       "460            59.523197                 1  \n",
       "461            61.931650                 2  \n",
       "459            56.793208                 1  \n",
       "458            55.173336                 1  \n",
       "457            52.777870                 1  \n",
       "...                  ...               ...  \n",
       "1887           57.898778                 2  \n",
       "1888           63.145652                 2  \n",
       "1889           65.841013                 3  \n",
       "1890           69.176246                 4  \n",
       "1892           73.867845                 4  \n",
       "\n",
       "[1883 rows x 8 columns]"
      ]
     },
     "execution_count": 5,
     "metadata": {},
     "output_type": "execute_result"
    }
   ],
   "source": [
    "# Create a clean DataFrame by dropping the duplicate mouse by its ID.\n",
    "combined_df.sort_values(\"Mouse ID\", inplace = True)\n",
    "combined_df.drop_duplicates(subset =[\"Mouse ID\",\"Timepoint\"],keep =False, inplace = True) \n",
    "combined_df"
   ]
  },
  {
   "cell_type": "code",
   "execution_count": 6,
   "metadata": {},
   "outputs": [
    {
     "data": {
      "text/plain": [
       "249"
      ]
     },
     "execution_count": 6,
     "metadata": {},
     "output_type": "execute_result"
    }
   ],
   "source": [
    "# Checking the number of mice in the clean DataFrame.\n",
    "## Question 1: I tried \"keep = False\" when I dropped the duplicates, and I was expecting \n",
    "## the number of mice would be 248, but it was still 249. I'm not sure if I was dropping the\n",
    "## duplicates correctly.I was thinking that duplicate syntax only grabbed the duplicated \n",
    "## data,they wouldn't drop all the data points of the mouse if I selected \"keep = False\", so the mouse \n",
    "## wouldn't be removed.\n",
    "number_mice = combined_df[\"Mouse ID\"].nunique()\n",
    "number_mice"
   ]
  },
  {
   "cell_type": "markdown",
   "metadata": {},
   "source": [
    "## Summary Statistics"
   ]
  },
  {
   "cell_type": "code",
   "execution_count": 7,
   "metadata": {},
   "outputs": [],
   "source": [
    "# Groupby Drug Regimen\n",
    "regimen_df = combined_df.groupby(\"Drug Regimen\")"
   ]
  },
  {
   "cell_type": "code",
   "execution_count": 8,
   "metadata": {},
   "outputs": [
    {
     "data": {
      "text/html": [
       "<div>\n",
       "<style scoped>\n",
       "    .dataframe tbody tr th:only-of-type {\n",
       "        vertical-align: middle;\n",
       "    }\n",
       "\n",
       "    .dataframe tbody tr th {\n",
       "        vertical-align: top;\n",
       "    }\n",
       "\n",
       "    .dataframe thead th {\n",
       "        text-align: right;\n",
       "    }\n",
       "</style>\n",
       "<table border=\"1\" class=\"dataframe\">\n",
       "  <thead>\n",
       "    <tr style=\"text-align: right;\">\n",
       "      <th></th>\n",
       "      <th>Mean</th>\n",
       "      <th>Median</th>\n",
       "      <th>Variance</th>\n",
       "      <th>Standard Deviation</th>\n",
       "      <th>Standard Error</th>\n",
       "    </tr>\n",
       "    <tr>\n",
       "      <th>Drug Regimen</th>\n",
       "      <th></th>\n",
       "      <th></th>\n",
       "      <th></th>\n",
       "      <th></th>\n",
       "      <th></th>\n",
       "    </tr>\n",
       "  </thead>\n",
       "  <tbody>\n",
       "    <tr>\n",
       "      <th>Ramicane</th>\n",
       "      <td>40.216745</td>\n",
       "      <td>40.673236</td>\n",
       "      <td>23.486704</td>\n",
       "      <td>4.846308</td>\n",
       "      <td>0.320955</td>\n",
       "    </tr>\n",
       "    <tr>\n",
       "      <th>Capomulin</th>\n",
       "      <td>40.675741</td>\n",
       "      <td>41.557809</td>\n",
       "      <td>24.947764</td>\n",
       "      <td>4.994774</td>\n",
       "      <td>0.329346</td>\n",
       "    </tr>\n",
       "    <tr>\n",
       "      <th>Propriva</th>\n",
       "      <td>52.458254</td>\n",
       "      <td>50.854632</td>\n",
       "      <td>44.053659</td>\n",
       "      <td>6.637293</td>\n",
       "      <td>0.540135</td>\n",
       "    </tr>\n",
       "    <tr>\n",
       "      <th>Ceftamin</th>\n",
       "      <td>52.591172</td>\n",
       "      <td>51.776157</td>\n",
       "      <td>39.290177</td>\n",
       "      <td>6.268188</td>\n",
       "      <td>0.469821</td>\n",
       "    </tr>\n",
       "    <tr>\n",
       "      <th>Infubinol</th>\n",
       "      <td>52.884795</td>\n",
       "      <td>51.820584</td>\n",
       "      <td>43.128684</td>\n",
       "      <td>6.567243</td>\n",
       "      <td>0.492236</td>\n",
       "    </tr>\n",
       "    <tr>\n",
       "      <th>Zoniferol</th>\n",
       "      <td>53.236507</td>\n",
       "      <td>51.818479</td>\n",
       "      <td>48.533355</td>\n",
       "      <td>6.966589</td>\n",
       "      <td>0.516398</td>\n",
       "    </tr>\n",
       "    <tr>\n",
       "      <th>Placebo</th>\n",
       "      <td>54.033581</td>\n",
       "      <td>52.288934</td>\n",
       "      <td>61.168083</td>\n",
       "      <td>7.821003</td>\n",
       "      <td>0.581331</td>\n",
       "    </tr>\n",
       "    <tr>\n",
       "      <th>Stelasyn</th>\n",
       "      <td>54.233149</td>\n",
       "      <td>52.431737</td>\n",
       "      <td>59.450562</td>\n",
       "      <td>7.710419</td>\n",
       "      <td>0.573111</td>\n",
       "    </tr>\n",
       "    <tr>\n",
       "      <th>Naftisol</th>\n",
       "      <td>54.331565</td>\n",
       "      <td>52.509285</td>\n",
       "      <td>66.173479</td>\n",
       "      <td>8.134708</td>\n",
       "      <td>0.596466</td>\n",
       "    </tr>\n",
       "    <tr>\n",
       "      <th>Ketapril</th>\n",
       "      <td>55.235638</td>\n",
       "      <td>53.698743</td>\n",
       "      <td>68.553577</td>\n",
       "      <td>8.279709</td>\n",
       "      <td>0.603860</td>\n",
       "    </tr>\n",
       "  </tbody>\n",
       "</table>\n",
       "</div>"
      ],
      "text/plain": [
       "                   Mean     Median   Variance  Standard Deviation  \\\n",
       "Drug Regimen                                                        \n",
       "Ramicane      40.216745  40.673236  23.486704            4.846308   \n",
       "Capomulin     40.675741  41.557809  24.947764            4.994774   \n",
       "Propriva      52.458254  50.854632  44.053659            6.637293   \n",
       "Ceftamin      52.591172  51.776157  39.290177            6.268188   \n",
       "Infubinol     52.884795  51.820584  43.128684            6.567243   \n",
       "Zoniferol     53.236507  51.818479  48.533355            6.966589   \n",
       "Placebo       54.033581  52.288934  61.168083            7.821003   \n",
       "Stelasyn      54.233149  52.431737  59.450562            7.710419   \n",
       "Naftisol      54.331565  52.509285  66.173479            8.134708   \n",
       "Ketapril      55.235638  53.698743  68.553577            8.279709   \n",
       "\n",
       "              Standard Error  \n",
       "Drug Regimen                  \n",
       "Ramicane            0.320955  \n",
       "Capomulin           0.329346  \n",
       "Propriva            0.540135  \n",
       "Ceftamin            0.469821  \n",
       "Infubinol           0.492236  \n",
       "Zoniferol           0.516398  \n",
       "Placebo             0.581331  \n",
       "Stelasyn            0.573111  \n",
       "Naftisol            0.596466  \n",
       "Ketapril            0.603860  "
      ]
     },
     "execution_count": 8,
     "metadata": {},
     "output_type": "execute_result"
    }
   ],
   "source": [
    "# Generate a summary statistics table of mean, median, variance,  standard deviation, and SEM \n",
    "# of the tumor volume for each regimen\n",
    "# This method is the most straighforward, creating multiple series and putting them all together at the end.\n",
    "mean = regimen_df[\"Tumor Volume (mm3)\"].mean()\n",
    "median = regimen_df[\"Tumor Volume (mm3)\"].median()\n",
    "variance = regimen_df[\"Tumor Volume (mm3)\"].var()\n",
    "std = regimen_df[\"Tumor Volume (mm3)\"].std()\n",
    "sem = regimen_df[\"Tumor Volume (mm3)\"].sem()\n",
    "summary_df = pd.DataFrame({\"Mean\":mean, \"Median\":median,\n",
    "                           \"Variance\":variance,\"Standard Deviation\":std,\n",
    "                           \"Standard Error\" : sem\n",
    "                          })\n",
    "summary_df = summary_df.sort_values(\"Mean\")\n",
    "summary_df"
   ]
  },
  {
   "cell_type": "markdown",
   "metadata": {},
   "source": [
    "## Bar and Pie Charts"
   ]
  },
  {
   "cell_type": "code",
   "execution_count": 9,
   "metadata": {},
   "outputs": [
    {
     "data": {
      "image/png": "[encoded data removed]",
      "text/plain": [
       "<Figure size 432x288 with 1 Axes>"
      ]
     },
     "metadata": {
      "needs_background": "light"
     },
     "output_type": "display_data"
    }
   ],
   "source": [
    "# Generate a bar plot showing the total number of mice for each treatment throughout \n",
    "# the course of the study using pandas. \n",
    "regimen_df[\"Mouse ID\"].count().plot(kind =\"bar\", facecolor = \"pink\", align=\"center\")\n",
    "plt.title(\"Mice and Treatment\")\n",
    "plt.ylabel(\"Number of the Mice\")\n",
    "plt.tight_layout()"
   ]
  },
  {
   "cell_type": "code",
   "execution_count": 10,
   "metadata": {},
   "outputs": [
    {
     "data": {
      "image/png": "[encoded data removed]",
      "text/plain": [
       "<Figure size 432x288 with 1 Axes>"
      ]
     },
     "metadata": {
      "needs_background": "light"
     },
     "output_type": "display_data"
    }
   ],
   "source": [
    "# Generate a bar plot showing the total number of mice for each treatment throughout\n",
    "# the course of the study using pyplot.\n",
    "regimen_df[\"Mouse ID\"].count().plot.bar(facecolor = \"purple\", alpha=0.75, align=\"center\")\n",
    "plt.title(\"Mice and Treatment\")\n",
    "plt.xlabel(\"Drug Regimen\")\n",
    "plt.ylabel(\"Number of the Mice\")\n",
    "\n",
    "plt.tight_layout()\n",
    "plt.show()"
   ]
  },
  {
   "cell_type": "code",
   "execution_count": 11,
   "metadata": {},
   "outputs": [
    {
     "data": {
      "image/png": "[encoded data removed]",
      "text/plain": [
       "<Figure size 432x288 with 1 Axes>"
      ]
     },
     "metadata": {},
     "output_type": "display_data"
    }
   ],
   "source": [
    "# Generate a pie plot showing the distribution of female versus male mice using pandas\n",
    "sex_df = combined_df.groupby(\"Sex\")\n",
    "total_mice = sex_df[\"Sex\"].count()\n",
    "colors = [\"yellowgreen\", \"pink\"]\n",
    "explode = [0.03, 0]\n",
    "total_mice.plot(kind= \"pie\",explode = explode, colors = colors, autopct=\"%1.2f%%\",\n",
    "                    shadow = True, startangle = 45)\n",
    "plt.show()"
   ]
  },
  {
   "cell_type": "code",
   "execution_count": 12,
   "metadata": {},
   "outputs": [
    {
     "data": {
      "image/png": "[encoded data removed]",
      "text/plain": [
       "<Figure size 432x288 with 1 Axes>"
      ]
     },
     "metadata": {},
     "output_type": "display_data"
    }
   ],
   "source": [
    "# Generate a pie plot showing the distribution of female versus male mice using pyplot\n",
    "colors = [\"lightblue\", \"orange\"]\n",
    "explode = [0.03, 0]\n",
    "total_mice.plot.pie(explode = explode, colors = colors, autopct=\"%1.2f%%\",\n",
    "                    shadow = True, startangle = 45)\n",
    "plt.show()"
   ]
  },
  {
   "cell_type": "markdown",
   "metadata": {},
   "source": [
    "## Quartiles, Outliers and Boxplots"
   ]
  },
  {
   "cell_type": "code",
   "execution_count": 13,
   "metadata": {},
   "outputs": [],
   "source": [
    "# Calculate the final tumor volume of each mouse across four of the treatment regimens:  \n",
    "# Capomulin, Ramicane, Infubinol, and Ceftamin"
   ]
  },
  {
   "cell_type": "code",
   "execution_count": 14,
   "metadata": {},
   "outputs": [
    {
     "data": {
      "text/html": [
       "<div>\n",
       "<style scoped>\n",
       "    .dataframe tbody tr th:only-of-type {\n",
       "        vertical-align: middle;\n",
       "    }\n",
       "\n",
       "    .dataframe tbody tr th {\n",
       "        vertical-align: top;\n",
       "    }\n",
       "\n",
       "    .dataframe thead th {\n",
       "        text-align: right;\n",
       "    }\n",
       "</style>\n",
       "<table border=\"1\" class=\"dataframe\">\n",
       "  <thead>\n",
       "    <tr style=\"text-align: right;\">\n",
       "      <th></th>\n",
       "      <th>Mouse ID</th>\n",
       "      <th>Drug Regimen</th>\n",
       "      <th>Sex</th>\n",
       "      <th>Age_months</th>\n",
       "      <th>Weight (g)</th>\n",
       "      <th>Timepoint</th>\n",
       "      <th>Tumor Volume (mm3)</th>\n",
       "      <th>Metastatic Sites</th>\n",
       "    </tr>\n",
       "  </thead>\n",
       "  <tbody>\n",
       "    <tr>\n",
       "      <th>463</th>\n",
       "      <td>a203</td>\n",
       "      <td>Infubinol</td>\n",
       "      <td>Female</td>\n",
       "      <td>20</td>\n",
       "      <td>23</td>\n",
       "      <td>45</td>\n",
       "      <td>67.973419</td>\n",
       "      <td>2</td>\n",
       "    </tr>\n",
       "    <tr>\n",
       "      <th>473</th>\n",
       "      <td>a251</td>\n",
       "      <td>Infubinol</td>\n",
       "      <td>Female</td>\n",
       "      <td>21</td>\n",
       "      <td>25</td>\n",
       "      <td>45</td>\n",
       "      <td>65.525743</td>\n",
       "      <td>1</td>\n",
       "    </tr>\n",
       "    <tr>\n",
       "      <th>483</th>\n",
       "      <td>a262</td>\n",
       "      <td>Placebo</td>\n",
       "      <td>Female</td>\n",
       "      <td>17</td>\n",
       "      <td>29</td>\n",
       "      <td>45</td>\n",
       "      <td>70.717621</td>\n",
       "      <td>4</td>\n",
       "    </tr>\n",
       "    <tr>\n",
       "      <th>493</th>\n",
       "      <td>a275</td>\n",
       "      <td>Ceftamin</td>\n",
       "      <td>Female</td>\n",
       "      <td>20</td>\n",
       "      <td>28</td>\n",
       "      <td>45</td>\n",
       "      <td>62.999356</td>\n",
       "      <td>3</td>\n",
       "    </tr>\n",
       "    <tr>\n",
       "      <th>500</th>\n",
       "      <td>a366</td>\n",
       "      <td>Stelasyn</td>\n",
       "      <td>Female</td>\n",
       "      <td>16</td>\n",
       "      <td>29</td>\n",
       "      <td>30</td>\n",
       "      <td>63.440686</td>\n",
       "      <td>1</td>\n",
       "    </tr>\n",
       "    <tr>\n",
       "      <th>...</th>\n",
       "      <td>...</td>\n",
       "      <td>...</td>\n",
       "      <td>...</td>\n",
       "      <td>...</td>\n",
       "      <td>...</td>\n",
       "      <td>...</td>\n",
       "      <td>...</td>\n",
       "      <td>...</td>\n",
       "    </tr>\n",
       "    <tr>\n",
       "      <th>1862</th>\n",
       "      <td>z435</td>\n",
       "      <td>Propriva</td>\n",
       "      <td>Female</td>\n",
       "      <td>12</td>\n",
       "      <td>26</td>\n",
       "      <td>10</td>\n",
       "      <td>48.710661</td>\n",
       "      <td>0</td>\n",
       "    </tr>\n",
       "    <tr>\n",
       "      <th>84</th>\n",
       "      <td>z578</td>\n",
       "      <td>Ramicane</td>\n",
       "      <td>Male</td>\n",
       "      <td>11</td>\n",
       "      <td>16</td>\n",
       "      <td>45</td>\n",
       "      <td>30.638696</td>\n",
       "      <td>0</td>\n",
       "    </tr>\n",
       "    <tr>\n",
       "      <th>1872</th>\n",
       "      <td>z581</td>\n",
       "      <td>Infubinol</td>\n",
       "      <td>Female</td>\n",
       "      <td>24</td>\n",
       "      <td>25</td>\n",
       "      <td>45</td>\n",
       "      <td>62.754451</td>\n",
       "      <td>3</td>\n",
       "    </tr>\n",
       "    <tr>\n",
       "      <th>1882</th>\n",
       "      <td>z795</td>\n",
       "      <td>Naftisol</td>\n",
       "      <td>Female</td>\n",
       "      <td>13</td>\n",
       "      <td>29</td>\n",
       "      <td>45</td>\n",
       "      <td>65.741070</td>\n",
       "      <td>3</td>\n",
       "    </tr>\n",
       "    <tr>\n",
       "      <th>1892</th>\n",
       "      <td>z969</td>\n",
       "      <td>Naftisol</td>\n",
       "      <td>Male</td>\n",
       "      <td>9</td>\n",
       "      <td>30</td>\n",
       "      <td>45</td>\n",
       "      <td>73.867845</td>\n",
       "      <td>4</td>\n",
       "    </tr>\n",
       "  </tbody>\n",
       "</table>\n",
       "<p>249 rows × 8 columns</p>\n",
       "</div>"
      ],
      "text/plain": [
       "     Mouse ID Drug Regimen     Sex  Age_months  Weight (g)  Timepoint  \\\n",
       "463      a203    Infubinol  Female          20          23         45   \n",
       "473      a251    Infubinol  Female          21          25         45   \n",
       "483      a262      Placebo  Female          17          29         45   \n",
       "493      a275     Ceftamin  Female          20          28         45   \n",
       "500      a366     Stelasyn  Female          16          29         30   \n",
       "...       ...          ...     ...         ...         ...        ...   \n",
       "1862     z435     Propriva  Female          12          26         10   \n",
       "84       z578     Ramicane    Male          11          16         45   \n",
       "1872     z581    Infubinol  Female          24          25         45   \n",
       "1882     z795     Naftisol  Female          13          29         45   \n",
       "1892     z969     Naftisol    Male           9          30         45   \n",
       "\n",
       "      Tumor Volume (mm3)  Metastatic Sites  \n",
       "463            67.973419                 2  \n",
       "473            65.525743                 1  \n",
       "483            70.717621                 4  \n",
       "493            62.999356                 3  \n",
       "500            63.440686                 1  \n",
       "...                  ...               ...  \n",
       "1862           48.710661                 0  \n",
       "84             30.638696                 0  \n",
       "1872           62.754451                 3  \n",
       "1882           65.741070                 3  \n",
       "1892           73.867845                 4  \n",
       "\n",
       "[249 rows x 8 columns]"
      ]
     },
     "execution_count": 14,
     "metadata": {},
     "output_type": "execute_result"
    }
   ],
   "source": [
    "# Start by getting the last (greatest) timepoint for each mouse\n",
    "# Merge this group df with the original dataframe to get the tumor volume at the last timepoint\n",
    "greatest_timepoint = combined_df.groupby(['Mouse ID'])['Timepoint'].transform(max) == combined_df['Timepoint']\n",
    "new_df = combined_df[greatest_timepoint]\n",
    "new_df"
   ]
  },
  {
   "cell_type": "code",
   "execution_count": 17,
   "metadata": {
    "scrolled": true
   },
   "outputs": [],
   "source": [
    "# Put treatments into a list for for loop (and later for plot labels)\n",
    "## PS: I made this, but I dont'know how to use this.\n",
    "#treatment_list = [\"Capomulin\", \"Ramicane\", \"Infubinol\", \"Ceftamin\"]\n",
    "#for treatment in treatment_list:"
   ]
  },
  {
   "cell_type": "code",
   "execution_count": 18,
   "metadata": {},
   "outputs": [
    {
     "data": {
      "text/plain": [
       "[]"
      ]
     },
     "execution_count": 18,
     "metadata": {},
     "output_type": "execute_result"
    }
   ],
   "source": [
    "# Create empty list to fill with tumor vol data (for plotting)\n",
    "## PS: Same here, I made this, but I dont'know how to use this.\n",
    "tumor_vol_list = []\n",
    "tumor_vol_list"
   ]
  },
  {
   "cell_type": "code",
   "execution_count": 19,
   "metadata": {},
   "outputs": [],
   "source": [
    "# Calculate the IQR and quantitatively determine if there are any potential outliers.\n",
    "    # Locate the rows which contain mice on each drug and get the tumor volumes\n",
    "    # add subset \n",
    "    # Determine outliers using upper and lower bounds"
   ]
  },
  {
   "cell_type": "code",
   "execution_count": 20,
   "metadata": {},
   "outputs": [
    {
     "name": "stdout",
     "output_type": "stream",
     "text": [
      "The lower quartile of tumor volume is: 32.38.\n",
      "The upper quartile of tumor volume is: 40.16.\n",
      "The interquartile range of tumor volume is: 7.78.\n",
      "The the median of tumor volume is: 38.13. \n",
      "Values below 20.71 could be outliers.\n",
      "Values above 51.83 could be outliers.\n"
     ]
    }
   ],
   "source": [
    "# Capomulin\n",
    "capomulin_df = new_df.loc[new_df[\"Drug Regimen\"] == \"Capomulin\", :]\n",
    "quartiles_capomulin = capomulin_df[\"Tumor Volume (mm3)\"].quantile([.25,.5,.75])\n",
    "lowerq_capomulin = round(quartiles_capomulin[0.25],2)\n",
    "upperq_capomulin = round(quartiles_capomulin[0.75],2)\n",
    "iqr_capomulin = round(upperq_capomulin-lowerq_capomulin,2)\n",
    "\n",
    "print(f\"The lower quartile of tumor volume is: {lowerq_capomulin}.\")\n",
    "print(f\"The upper quartile of tumor volume is: {upperq_capomulin}.\")\n",
    "print(f\"The interquartile range of tumor volume is: {iqr_capomulin}.\")\n",
    "print(f\"The the median of tumor volume is: {round(quartiles_capomulin[0.5],2)}. \")\n",
    "\n",
    "lower_bound_capomulin = round(lowerq_capomulin - (1.5*iqr_capomulin),2)\n",
    "upper_bound_capomulin = round(upperq_capomulin + (1.5*iqr_capomulin),2)\n",
    "print(f\"Values below {lower_bound_capomulin} could be outliers.\")\n",
    "print(f\"Values above {upper_bound_capomulin} could be outliers.\")"
   ]
  },
  {
   "cell_type": "code",
   "execution_count": 21,
   "metadata": {
    "scrolled": false
   },
   "outputs": [
    {
     "name": "stdout",
     "output_type": "stream",
     "text": [
      "The lower quartile of tumor volume is: 31.56.\n",
      "The upper quartile of tumor volume is: 40.66.\n",
      "The interquartile range of tumor volume is: 9.1.\n",
      "The the median of tumor volume is: 36.56. \n",
      "Values below 17.91 could be outliers.\n",
      "Values above 54.31 could be outliers.\n"
     ]
    }
   ],
   "source": [
    "# Ramicane\n",
    "ramicane_df = new_df.loc[new_df[\"Drug Regimen\"] == \"Ramicane\", :]\n",
    "quartiles_ramicane = ramicane_df[\"Tumor Volume (mm3)\"].quantile([.25,.5,.75])\n",
    "lowerq_ramicane = round(quartiles_ramicane[0.25],2)\n",
    "upperq_ramicane = round(quartiles_ramicane[0.75],2)\n",
    "iqr_ramicane = round(upperq_ramicane-lowerq_ramicane,2)\n",
    "\n",
    "print(f\"The lower quartile of tumor volume is: {lowerq_ramicane}.\")\n",
    "print(f\"The upper quartile of tumor volume is: {upperq_ramicane}.\")\n",
    "print(f\"The interquartile range of tumor volume is: {iqr_ramicane}.\")\n",
    "print(f\"The the median of tumor volume is: {round(quartiles_ramicane[0.5],2)}. \")\n",
    "\n",
    "lower_bound_ramicane = round(lowerq_ramicane - (1.5*iqr_ramicane),2)\n",
    "upper_bound_ramicane = round(upperq_ramicane + (1.5*iqr_ramicane),2)\n",
    "print(f\"Values below {lower_bound_ramicane} could be outliers.\")\n",
    "print(f\"Values above {upper_bound_ramicane} could be outliers.\")"
   ]
  },
  {
   "cell_type": "code",
   "execution_count": 22,
   "metadata": {},
   "outputs": [
    {
     "name": "stdout",
     "output_type": "stream",
     "text": [
      "The lower quartile of tumor volume is: 54.05.\n",
      "The upper quartile of tumor volume is: 65.53.\n",
      "The interquartile range of tumor volume is: 11.48.\n",
      "The the median of tumor volume is: 60.17. \n",
      "Values below 36.83 could be outliers.\n",
      "Values above 82.75 could be outliers.\n"
     ]
    }
   ],
   "source": [
    "# Infubinol\n",
    "infubinol_df = new_df.loc[new_df[\"Drug Regimen\"] == \"Infubinol\", :]\n",
    "quartiles_infubinol = infubinol_df[\"Tumor Volume (mm3)\"].quantile([.25,.5,.75])\n",
    "lowerq_infubinol = round(quartiles_infubinol[0.25],2)\n",
    "upperq_infubinol = round(quartiles_infubinol[0.75],2)\n",
    "iqr_infubinol = round(upperq_infubinol-lowerq_infubinol,2)\n",
    "\n",
    "print(f\"The lower quartile of tumor volume is: {lowerq_infubinol}.\")\n",
    "print(f\"The upper quartile of tumor volume is: {upperq_infubinol}.\")\n",
    "print(f\"The interquartile range of tumor volume is: {iqr_infubinol}.\")\n",
    "print(f\"The the median of tumor volume is: {round(quartiles_infubinol[0.5],2)}. \")\n",
    "\n",
    "lower_bound_infubinol = round(lowerq_infubinol - (1.5*iqr_infubinol),2)\n",
    "upper_bound_infubinol = round(upperq_infubinol + (1.5*iqr_infubinol),2)\n",
    "print(f\"Values below {lower_bound_infubinol} could be outliers.\")\n",
    "print(f\"Values above {upper_bound_infubinol} could be outliers.\")"
   ]
  },
  {
   "cell_type": "code",
   "execution_count": 23,
   "metadata": {},
   "outputs": [
    {
     "name": "stdout",
     "output_type": "stream",
     "text": [
      "The lower quartile of tumor volume is: 48.72.\n",
      "The upper quartile of tumor volume is: 64.3.\n",
      "The interquartile range of tumor volume is: 15.58.\n",
      "The the median of tumor volume is: 59.85. \n",
      "Values below 25.35 could be outliers.\n",
      "Values above 87.67 could be outliers.\n"
     ]
    }
   ],
   "source": [
    "# Ceftamin\n",
    "ceftamin_df = new_df.loc[new_df[\"Drug Regimen\"] == \"Ceftamin\", :]\n",
    "quartiles_ceftamin = ceftamin_df[\"Tumor Volume (mm3)\"].quantile([.25,.5,.75])\n",
    "lowerq_ceftamin = round(quartiles_ceftamin[0.25],2)\n",
    "upperq_ceftamin = round(quartiles_ceftamin[0.75],2)\n",
    "iqr_ceftamin = round(upperq_ceftamin-lowerq_ceftamin,2)\n",
    "\n",
    "print(f\"The lower quartile of tumor volume is: {lowerq_ceftamin}.\")\n",
    "print(f\"The upper quartile of tumor volume is: {upperq_ceftamin}.\")\n",
    "print(f\"The interquartile range of tumor volume is: {iqr_ceftamin}.\")\n",
    "print(f\"The the median of tumor volume is: {round(quartiles_ceftamin[0.5],2)}. \")\n",
    "\n",
    "lower_bound_ceftamin = round(lowerq_ceftamin - (1.5*iqr_ceftamin),2)\n",
    "upper_bound_ceftamin = round(upperq_ceftamin + (1.5*iqr_ceftamin),2)\n",
    "print(f\"Values below {lower_bound_ceftamin} could be outliers.\")\n",
    "print(f\"Values above {upper_bound_ceftamin} could be outliers.\")"
   ]
  },
  {
   "cell_type": "code",
   "execution_count": 24,
   "metadata": {},
   "outputs": [
    {
     "data": {
      "image/png": "[encoded data removed]",
      "text/plain": [
       "<Figure size 432x288 with 1 Axes>"
      ]
     },
     "metadata": {
      "needs_background": "light"
     },
     "output_type": "display_data"
    }
   ],
   "source": [
    "# Generate a box plot of the final tumor volume of each mouse across four regimens of interest\n",
    "data = [quartiles_capomulin, quartiles_ramicane, quartiles_infubinol, quartiles_ceftamin]\n",
    "labels = [\"Capomulin\", \"Ramicane\", \"Infubinol\", \"Ceftamin\"]\n",
    "\n",
    "fig, ax = plt.subplots()\n",
    "plot = ax.boxplot(data, patch_artist=True,labels=labels)\n",
    "plt.title(\"Boxplot of Four Regimens of Tnterest\",fontsize=12, weight=\"bold\")\n",
    "plt.xlabel(\"Treatment\")\n",
    "plt.ylabel(\"Tumor Volume (mm3)\")\n",
    "ax.set_ylim(15,90)\n",
    "\n",
    "colors = ['pink', 'lightblue', 'lightgreen',\"yellow\"] \n",
    "for patch, color in zip(plot[\"boxes\"], colors):\n",
    "    patch.set_facecolor(color)"
   ]
  },
  {
   "cell_type": "markdown",
   "metadata": {},
   "source": [
    "## Line and Scatter Plots"
   ]
  },
  {
   "cell_type": "code",
   "execution_count": 25,
   "metadata": {},
   "outputs": [
    {
     "data": {
      "image/png": "[encoded data removed]",
      "text/plain": [
       "<Figure size 432x288 with 1 Axes>"
      ]
     },
     "metadata": {
      "needs_background": "light"
     },
     "output_type": "display_data"
    }
   ],
   "source": [
    "# Generate a line plot of time point versus tumor volume for a mouse treated with Capomulin\n",
    "capomulin_2_df = combined_df.loc[combined_df[\"Drug Regimen\"] == \"Capomulin\", :]\n",
    "capomulin_b128_df = capomulin_2_df.loc[capomulin_2_df[\"Mouse ID\"] == \"b128\", :]\n",
    "timepoint = capomulin_b128_df[\"Timepoint\"].sort_values()\n",
    "tumor_volume = capomulin_b128_df[\"Tumor Volume (mm3)\"]\n",
    "\n",
    "# Plot\n",
    "plt.plot(timepoint, tumor_volume, marker='o', color = \"purple\",linewidth=3, alpha =0.8)\n",
    "plt.title(\"Tumor Volume of A Mouse on Capomulin in Different Time Points\", fontsize=10, weight=\"bold\")\n",
    "plt.xticks(timepoint)\n",
    "plt.xlabel('Timepoint')\n",
    "plt.ylabel('Tumor Volume (mm3)')\n",
    "plt.ylim(25,50)\n",
    "plt.show()"
   ]
  },
  {
   "cell_type": "code",
   "execution_count": 26,
   "metadata": {
    "scrolled": false
   },
   "outputs": [
    {
     "name": "stdout",
     "output_type": "stream",
     "text": [
      "The classification of the weight is [22 21 17 19 24 20 23 25 15].\n"
     ]
    },
    {
     "data": {
      "text/plain": [
       "Text(0, 0.5, 'Avreaged Tumor Volume (mm3)')"
      ]
     },
     "execution_count": 26,
     "metadata": {},
     "output_type": "execute_result"
    },
    {
     "data": {
      "image/png": "[encoded data removed]",
      "text/plain": [
       "<Figure size 432x288 with 1 Axes>"
      ]
     },
     "metadata": {
      "needs_background": "light"
     },
     "output_type": "display_data"
    }
   ],
   "source": [
    "# Generate a scatter plot of mouse weight versus average tumor volume\n",
    "# for the Capomulin regimen\n",
    "\n",
    "# Generate a weight list\n",
    "weight_list = capomulin_2_df[\"Weight (g)\"].unique()\n",
    "print(f\"The classification of the weight is {weight_list}.\")\n",
    "\n",
    "# Calculate average tumor volume \n",
    "## Question 2: Can I use a for loop to get average tumor volume? \n",
    "##           I tried the code below, but I got the same 9 values for the average tumor volumes.\n",
    "##           There should be something wrong in the weight_list. I think the for loop\n",
    "##           didn't recognize that the weight_list has a connection to the tumor volumes.\n",
    "##           Is that groupby \"Weight (g)\" and \"Tumor Volume (mm3)\" then using a for loop to\n",
    "##           grab the averaged tumor volumes using \"Weight (g) ?\"\n",
    "## Code:　for weight in weight_list:\n",
    "##      　　　average tumor volume = capomulin_2_df[\"Tumor Volume (mm3)\"].mean()\n",
    "##           print(average tumor volume)\n",
    "\n",
    "tv_15 = (capomulin_2_df.loc[capomulin_2_df[\"Weight (g)\"] == 15, [\n",
    "    \"Tumor Volume (mm3)\"]]).mean()\n",
    "tv_17 = (capomulin_2_df.loc[capomulin_2_df[\"Weight (g)\"] == 17, [\n",
    "    \"Tumor Volume (mm3)\"]]).mean()\n",
    "tv_19 = (capomulin_2_df.loc[capomulin_2_df[\"Weight (g)\"] == 19, [\n",
    "    \"Tumor Volume (mm3)\"]]).mean()\n",
    "tv_20 = (capomulin_2_df.loc[capomulin_2_df[\"Weight (g)\"] == 20, [\n",
    "    \"Tumor Volume (mm3)\"]]).mean()\n",
    "tv_21 = (capomulin_2_df.loc[capomulin_2_df[\"Weight (g)\"] == 21, [\n",
    "    \"Tumor Volume (mm3)\"]]).mean()\n",
    "tv_22 = (capomulin_2_df.loc[capomulin_2_df[\"Weight (g)\"] == 22, [\n",
    "    \"Tumor Volume (mm3)\"]]).mean()\n",
    "tv_23 = (capomulin_2_df.loc[capomulin_2_df[\"Weight (g)\"] == 23, [\n",
    "    \"Tumor Volume (mm3)\"]]).mean()\n",
    "tv_24 = (capomulin_2_df.loc[capomulin_2_df[\"Weight (g)\"] == 24, [\n",
    "    \"Tumor Volume (mm3)\"]]).mean()\n",
    "tv_25 = (capomulin_2_df.loc[capomulin_2_df[\"Weight (g)\"] == 25, [\n",
    "    \"Tumor Volume (mm3)\"]]).mean()\n",
    "\n",
    "#plot\n",
    "x_axis = [15, 17, 19, 20, 21, 22, 23, 24, 25]\n",
    "y_axis = [tv_15, tv_17, tv_19, tv_20, tv_21, tv_22 , tv_23 , tv_24, tv_25]\n",
    "plt.scatter(x_axis, y_axis, marker=\"o\", facecolors=\"purple\", edgecolors=\"black\")\n",
    "plt.xlim(13,26)\n",
    "plt.ylim(0,50)\n",
    "plt.title(\"Mouse Weight and Averaged Tumor Volumn\",fontsize=12, weight=\"bold\")\n",
    "plt.xlabel(\"Weight (g)\")\n",
    "plt.ylabel(\"Avreaged Tumor Volume (mm3)\")"
   ]
  },
  {
   "cell_type": "markdown",
   "metadata": {},
   "source": [
    "## Correlation and Regression"
   ]
  },
  {
   "cell_type": "code",
   "execution_count": 27,
   "metadata": {},
   "outputs": [],
   "source": [
    "# Calculate the correlation coefficient and linear regression model \n",
    "# for mouse weight and average tumor volume for the Capomulin regimen"
   ]
  },
  {
   "cell_type": "code",
   "execution_count": 28,
   "metadata": {},
   "outputs": [
    {
     "name": "stdout",
     "output_type": "stream",
     "text": [
      "                         Weight  Averaged Tumor Volume\n",
      "Weight                 1.000000               0.950524\n",
      "Averaged Tumor Volume  0.950524               1.000000\n"
     ]
    }
   ],
   "source": [
    "# Correlation coefficient\n",
    "\n",
    "## Question 3: I don't know if there is a better way to retrieve the averaged tumor volumes here.\n",
    "## There is a \"Tumor Volume (mm3)\" statement mix with the averaged value, \n",
    "## so I had to copy and paste one by one manually. I believe that this question is related\n",
    "## to the for loop question which is listed above.\n",
    "## Data Look like this:\n",
    "##[Tumor Volume (mm3)    36.18204\n",
    "##dtype: float64\n",
    "## Tumor Volume (mm3)    37.214133\n",
    "##dtype: float64\n",
    "## Tumor Volume (mm3)    41.182391\n",
    "##dtype: float64\n",
    "## Tumor Volume (mm3)    39.141053\n",
    "##dtype: float64\n",
    "## Tumor Volume (mm3)    42.0887\n",
    "##dtype: float64\n",
    "## Tumor Volume (mm3)    43.28849\n",
    "##dtype: float64\n",
    "## Tumor Volume (mm3)    43.341051\n",
    "##dtype: float64\n",
    "## Tumor Volume (mm3)    44.80581\n",
    "##dtype: float64\n",
    "## Tumor Volume (mm3)    44.062109\n",
    "##dtype: float64]\n",
    "tumor_volume_series = pd.Series(y_axis).values\n",
    "#print(tumor_volume_series)\n",
    "\n",
    "# Make a DataFrame to calculate\n",
    "## Question 4: It was giving an error when I used this code correlation = sem.pearsonr(x_axis,y_axis)\n",
    "## The error was \"Series' object has no attribute 'pearsonr.\"\n",
    "## I don't know why this logic didn't work.\n",
    "data = {\"Weight\" : [15, 17, 19, 20, 21, 22, 23, 24, 25],\n",
    "        \"Averaged Tumor Volume\" : [36.18204, 37.214133, 41.182391, 39.141053, 42.0887, 43.28849, 43.341051, 44.80581, 44.062109]}\n",
    "df = pd.DataFrame(data,columns=['Weight','Averaged Tumor Volume'])\n",
    "corrrelation = df.corr(method=\"pearson\")\n",
    "print (corrrelation)"
   ]
  },
  {
   "cell_type": "code",
   "execution_count": 29,
   "metadata": {},
   "outputs": [
    {
     "name": "stdout",
     "output_type": "stream",
     "text": [
      "The r-squared is: 0.9034966532643816.\n"
     ]
    },
    {
     "data": {
      "image/png": "[encoded data removed]",
      "text/plain": [
       "<Figure size 432x288 with 1 Axes>"
      ]
     },
     "metadata": {
      "needs_background": "light"
     },
     "output_type": "display_data"
    }
   ],
   "source": [
    "# Linear regression model\n",
    "# Get weight as x value\n",
    "x_value = df.iloc[:,0]\n",
    "# Get averaged tumor volume as y value\n",
    "y_value = df.iloc[:,1]\n",
    "(slope, intercept, rvalue, pvalue, stderr) = linregress(x_value, y_value)\n",
    "regress_values = x_value * slope + intercept\n",
    "line_eq = \"y = \" + str(round(slope,2)) + \"x + \" + str(round(intercept,2))\n",
    "\n",
    "# Plot scatter plot again\n",
    "plt.scatter(x_axis, y_axis, marker=\"<\", facecolors=\"green\", edgecolors=\"blue\")\n",
    "plt.xlim(13,26)\n",
    "plt.ylim(0,50)\n",
    "plt.title(\"Mouse Weight and Averaged Tumor Volumn\",fontsize=12, weight=\"bold\")\n",
    "plt.xlabel(\"Weight (g)\")\n",
    "plt.ylabel(\"Avreaged Tumor Volume (mm3)\")\n",
    "\n",
    "# Plot the regression line\n",
    "plt.plot(x_axis,regress_values,\"r--\")\n",
    "# Print the equation\n",
    "plt.annotate(line_eq,(20,20),fontsize=15,color=\"red\")\n",
    "print(f\"The r-squared is: {rvalue**2}.\")"
   ]
  },
  {
   "cell_type": "code",
   "execution_count": null,
   "metadata": {},
   "outputs": [],
   "source": []
  }
 ],
 "metadata": {
  "anaconda-cloud": {},
  "kernelspec": {
   "display_name": "Python 3",
   "language": "python",
   "name": "python3"
  },
  "language_info": {
   "codemirror_mode": {
    "name": "ipython",
    "version": 3
   },
   "file_extension": ".py",
   "mimetype": "text/x-python",
   "name": "python",
   "nbconvert_exporter": "python",
   "pygments_lexer": "ipython3",
   "version": "3.6.10"
  }
 },
 "nbformat": 4,
 "nbformat_minor": 2
}
